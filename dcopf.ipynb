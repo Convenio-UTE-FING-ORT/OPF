{
  "nbformat": 4,
  "nbformat_minor": 0,
  "metadata": {
    "colab": {
      "name": "dcopf.ipynb",
      "provenance": []
    },
    "kernelspec": {
      "name": "python3",
      "display_name": "Python 3"
    }
  },
  "cells": [
    {
      "cell_type": "markdown",
      "metadata": {
        "id": "fyHK-cAGeFGw"
      },
      "source": [
        "Se quiere resolver el problema de flujo óptimo con tres barras\n",
        "\n",
        "El problema de optimización que modela esta red es \n",
        "\n",
        "\n",
        "\\begin{align}\n",
        "\\min_{(\\mathbf p,\\mathbf g)}&\\   c_1 g_1 +c_2 g_2  \\\\\n",
        "\\textrm{sujeto a: }& p_1=g_1\\ &(\\lambda_1)\\\\\n",
        "& p_2=g_2-d_2& (\\lambda_2)\\\\\n",
        "&p_3 = -d_3&  (\\lambda_3)\\\\\n",
        "&p_3+p_1+p_2=0&  (\\nu)\\\\\n",
        "&|p_2-p_3|\\leq 3*R&  (\\mu_{1},\\mu_{2})\\\\\n",
        "& g\\geq 0 &  (\\mu_{3}) \n",
        "\\end{align}\n",
        "\n",
        "\n",
        "Probar  $R=40MW$, $ d_3=30MW$ y  $d_2=170$, $c_1=1$, $c_2=3$.\n",
        "\n"
      ]
    },
    {
      "cell_type": "code",
      "metadata": {
        "id": "ZxNP2uruteMQ"
      },
      "source": [
        "# Import packages.\n",
        "import cvxpy as cp\n",
        "import numpy as np\n",
        "\n"
      ],
      "execution_count": 1,
      "outputs": []
    },
    {
      "cell_type": "code",
      "metadata": {
        "id": "YXMhF2-onCjr",
        "outputId": "d503b3d5-26eb-46a4-d152-b7097d7d2189",
        "colab": {
          "base_uri": "https://localhost:8080/",
          "height": 225
        }
      },
      "source": [
        "# Datos\n",
        "R=40\n",
        "d3=30\n",
        "d2=170\n",
        "c=[1,3]\n",
        "\n",
        "p = cp.Variable(3)\n",
        "g= cp.Variable(2)\n",
        "cost = cp.sum(c*g)\n",
        "constraints = [ [1,0,0]*p+[-1,0]*g==0, [0,1,0]*p-[0,1]*g==-d2, -d3==[0,0,1]*p , [1,1,1]*p==0 , [0,1,-1]*p<= 3*R ,[0,-1,1]*p<= 3*R, g>=0 ]\n",
        "prob = cp.Problem(cp.Minimize(cost),constraints)\n",
        "prob.solve()\n",
        "\n",
        "print(\"El costo óptimo es\", prob.value)\n",
        "print(\"La generación óptima es, %s\" %g.value)\n",
        "\n",
        "print(\"Las inyecciones netas en las barras son, %s\" %p.value)\n",
        "print(p.value)\n",
        "\n",
        "p23=(p.value[1]-p.value[2])/3\n",
        "print(\"lambda_1=, %s\" %constraints[0].dual_value)\n",
        "print(\"lambda_2=, %s\" %constraints[1].dual_value)\n",
        "print(\"lambda_3=, %s\" %constraints[2].dual_value)\n",
        "print(\"p23 = %s\" %p23)\n",
        "print(\"nu, %s\" %constraints[3].dual_value)\n",
        "print(\"mu_{1}=, %s\" %constraints[4].dual_value)\n",
        "print(\"mu_{2}=, %s\" %constraints[5].dual_value)\n",
        "print(\"mu_{3}=, %s\" %constraints[6].dual_value)\n"
      ],
      "execution_count": 2,
      "outputs": [
        {
          "output_type": "stream",
          "text": [
            "El costo óptimo es 240.0000003500899\n",
            "La generación óptima es, [179.99999982  20.00000018]\n",
            "Las inyecciones netas en las barras son, [ 179.99999982 -149.99999982  -30.        ]\n",
            "[ 179.99999982 -149.99999982  -30.        ]\n",
            "lambda_1=, 1.0000000013768573\n",
            "lambda_2=, 2.999999993729769\n",
            "lambda_3=, -0.9999999909710824\n",
            "p23 = -39.99999994165157\n",
            "nu, -1.0000000013785149\n",
            "mu_{1}=, 6.412142116659656e-10\n",
            "mu_{2}=, 1.9999999929904984\n",
            "mu_{3}=, [7.52861949e-10 8.39455028e-09]\n"
          ],
          "name": "stdout"
        }
      ]
    },
    {
      "cell_type": "markdown",
      "metadata": {
        "id": "nTP0of9J98bg"
      },
      "source": [
        "a) Probar incrementar y reducir $R$, $d_2$, y $d_3$.\n",
        "\n",
        "b) Relacionar los cambios en el costo óptimo con $\\mu_1$, $\\mu_2$,  $\\lambda_1$, $\\lambda_2$.\n",
        "\n",
        "c) ¿Baja o sube el costo al incrementar $R$?\n",
        "\n",
        "d) ¿Baja o sube el costo al incrementar $d_3$?\n"
      ]
    },
    {
      "cell_type": "markdown",
      "metadata": {
        "id": "RfXvuAHaC-wj"
      },
      "source": [
        "e) Obtener un conjunto de parámetros que desactiven la restricción $|p_2-p_3|\\leq 3*R$."
      ]
    },
    {
      "cell_type": "markdown",
      "metadata": {
        "id": "SAux8TYWDjkf"
      },
      "source": [
        "\n",
        "f) Obtener un conjunto de parámetros que activen la restricción $g\\geq 0$.\n",
        "\n",
        "g) ¿Qué sucede en este caso si se elimina la restricción  $g\\geq 0$?\n"
      ]
    },
    {
      "cell_type": "markdown",
      "metadata": {
        "id": "dNpYIMDKDnRB"
      },
      "source": [
        "\n",
        "g) ¿Qué sucede si se cambia el costo del generador en la barra 2 a $c_2=0.5$?\n"
      ]
    },
    {
      "cell_type": "markdown",
      "metadata": {
        "id": "g1BXBEOyD0Hn"
      },
      "source": [
        "h) Repetir para un costo cuadrático $c(g_1,g_2)=g_1^2+g_2^2$. \n"
      ]
    }
  ]
}